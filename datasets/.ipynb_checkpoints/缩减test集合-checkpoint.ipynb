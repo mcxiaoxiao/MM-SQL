{
 "cells": [
  {
   "cell_type": "code",
   "execution_count": 3,
   "id": "c71eae2b-bb77-4178-95f2-d247ff47d5f8",
   "metadata": {},
   "outputs": [],
   "source": [
    "import json\n",
    "import random\n",
    "\n",
    "def should_keep(item):\n",
    "    \"\"\"判断是否保留该对象\"\"\"\n",
    "    keep = False\n",
    "    for turn in item['turns']:\n",
    "        if turn.get('type') in ['ambiguous', 'unanswerable']:\n",
    "            return True\n",
    "        if turn.get('type') == 'improper' and len(turn.get('text', '')) > 10:\n",
    "            return True\n",
    "    return keep\n",
    "\n",
    "def process_json_file(input_file, output_file):\n",
    "    with open(input_file, 'r', encoding='utf-8') as file:\n",
    "        data = json.load(file)\n",
    "\n",
    "    filtered_data = []\n",
    "    for item in data:\n",
    "        if should_keep(item):\n",
    "            filtered_data.append(item)\n",
    "        else:\n",
    "            # 对于不满足保留条件的对象，有50%的概率被保留\n",
    "            if random.random() < 0.3:\n",
    "                filtered_data.append(item)\n",
    "\n",
    "    with open(output_file, 'w', encoding='utf-8') as file:\n",
    "        json.dump(filtered_data, file, ensure_ascii=False, indent=4)\n",
    "\n",
    "# 调用函数处理文件\n",
    "process_json_file('MMSQL_test.json', 'filtered_MMSQL_test.json')\n"
   ]
  }
 ],
 "metadata": {
  "kernelspec": {
   "display_name": "Python 3 (ipykernel)",
   "language": "python",
   "name": "python3"
  },
  "language_info": {
   "codemirror_mode": {
    "name": "ipython",
    "version": 3
   },
   "file_extension": ".py",
   "mimetype": "text/x-python",
   "name": "python",
   "nbconvert_exporter": "python",
   "pygments_lexer": "ipython3",
   "version": "3.12.4"
  }
 },
 "nbformat": 4,
 "nbformat_minor": 5
}
