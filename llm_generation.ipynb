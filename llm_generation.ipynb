{
 "cells": [
  {
   "cell_type": "code",
   "execution_count": 1,
   "id": "1183bfa3-8029-4027-af15-3f50e0fbf08f",
   "metadata": {
    "tags": []
   },
   "outputs": [
    {
     "name": "stdout",
     "output_type": "stream",
     "text": [
      "request gemini-1.5-flash\n",
      "Received response from Gemini.\n",
      "LLM Response:\n",
      "I am gzm. \n",
      "\n"
     ]
    }
   ],
   "source": [
    "# Import the functions from api_request_wrapper.py\n",
    "from api_request import request_gemini as request_llm\n",
    "\n",
    "# Define the question you want to ask\n",
    "messages = [\n",
    "        {\"role\": \"system\", \"content\": \"You answer questions about web services.\"},\n",
    "        {\"role\": \"user\", \"content\": \"What are the main differences between classical and quantum physics1\"}]\n",
    "    \n",
    "llm_response = request_llm(messages)\n",
    "print(\"LLM Response:\")\n",
    "print(llm_response)\n"
   ]
  }
 ],
 "metadata": {
  "kernelspec": {
   "display_name": "Python 3 (ipykernel)",
   "language": "python",
   "name": "python3"
  },
  "language_info": {
   "codemirror_mode": {
    "name": "ipython",
    "version": 3
   },
   "file_extension": ".py",
   "mimetype": "text/x-python",
   "name": "python",
   "nbconvert_exporter": "python",
   "pygments_lexer": "ipython3",
   "version": "3.12.4"
  }
 },
 "nbformat": 4,
 "nbformat_minor": 5
}
