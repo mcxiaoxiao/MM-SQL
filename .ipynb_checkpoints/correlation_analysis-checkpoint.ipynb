{
 "cells": [
  {
   "cell_type": "code",
   "execution_count": null,
   "id": "64e690ee-13e4-4f94-a338-f76a44216c81",
   "metadata": {},
   "outputs": [],
   "source": [
    "\"\"\"\n",
    "correlation_analysis.ipynb\n",
    "\n",
    "This notebook calculates the Spearman and Pearson correlations between human ratings and GPT-4o ratings.\n",
    "\n",
    "Steps:\n",
    "1. Load human ratings and GPT-4o ratings from the JSON files.\n",
    "2. Calculate Spearman and Pearson correlations.\n",
    "3. Display the correlation results.\n",
    "\"\"\"\n",
    "\n",
    "import json\n",
    "import pandas as pd\n",
    "from scipy.stats import spearmanr, pearsonr\n",
    "\n",
    "# Load human ratings\n",
    "with open('data/human_ratings.json', 'r') as infile:\n",
    "    human_ratings = json.load(infile)\n",
    "\n",
    "# Load GPT-4o ratings\n",
    "with open('outputs/rqs_scores.json', 'r') as infile:\n",
    "    gpt4o_ratings = json.load(infile)\n",
    "\n",
    "# Convert to DataFrame for easier manipulation\n",
    "df = pd.DataFrame({\n",
    "    'human_ratings': [rating['score'] for rating in human_ratings],\n",
    "    'gpt4o_ratings': [score['rqs_score'] for score in gpt4o_ratings]\n",
    "})\n",
    "\n",
    "# Calculate correlations\n",
    "spearman_corr, _ = spearmanr(df['human_ratings'], df['gpt4o_ratings'])\n",
    "pearson_corr, _ = pearsonr(df['human_ratings'], df['gpt4o_ratings'])\n",
    "\n",
    "# Display results\n",
    "print(f\"Spearman correlation: {spearman_corr}\")\n",
    "print(f\"Pearson correlation: {pearson_corr}\")\n"
   ]
  }
 ],
 "metadata": {
  "kernelspec": {
   "display_name": "Python 3 (ipykernel)",
   "language": "python",
   "name": "python3"
  },
  "language_info": {
   "codemirror_mode": {
    "name": "ipython",
    "version": 3
   },
   "file_extension": ".py",
   "mimetype": "text/x-python",
   "name": "python",
   "nbconvert_exporter": "python",
   "pygments_lexer": "ipython3",
   "version": "3.11.9"
  }
 },
 "nbformat": 4,
 "nbformat_minor": 5
}
