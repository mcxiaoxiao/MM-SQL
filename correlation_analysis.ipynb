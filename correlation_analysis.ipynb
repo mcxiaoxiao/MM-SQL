{
 "cells": [
  {
   "cell_type": "code",
   "execution_count": 1,
   "id": "46e0df9b-db7d-4a52-bcec-d49b5fc492fb",
   "metadata": {},
   "outputs": [
    {
     "data": {
      "text/plain": [
       "'\\ncorrelation_analysis.ipynb\\n\\nThis notebook calculates the Spearman and Pearson correlations between human and GPT-4o ratings.\\n\\nSteps:\\n1. Load human ratings and GPT-4o ratings from the JSON files.\\n2. Calculate Spearman, Pearson, and Kendalltau correlations.\\n3. Display the correlation results.\\n'"
      ]
     },
     "execution_count": 1,
     "metadata": {},
     "output_type": "execute_result"
    }
   ],
   "source": [
    "\"\"\"\n",
    "correlation_analysis.ipynb\n",
    "\n",
    "This notebook calculates the Spearman and Pearson correlations between human and GPT-4o ratings.\n",
    "\n",
    "Steps:\n",
    "1. Load human ratings and GPT-4o ratings from the JSON files.\n",
    "2. Calculate Spearman, Pearson, and Kendalltau correlations.\n",
    "3. Display the correlation results.\n",
    "\"\"\""
   ]
  },
  {
   "cell_type": "code",
   "execution_count": 2,
   "id": "2cb3cd14-0533-45f2-a488-d6421d9f0aaa",
   "metadata": {},
   "outputs": [
    {
     "name": "stdout",
     "output_type": "stream",
     "text": [
      "Processing complete. Results saved to 'modified_output.json'\n"
     ]
    }
   ],
   "source": [
    "import json\n",
    "\n",
    "# Read the JSON file\n",
    "with open('outputs/gpt4_scored_gemini-1.5-flash.json', 'r', encoding='utf-8') as file:\n",
    "    data = json.load(file)\n",
    "\n",
    "# Iterate through each element\n",
    "for item in data:\n",
    "    if 'turns' in item:\n",
    "        for turn in item['turns']:\n",
    "            if 'RQS' in turn and turn['RQS'] != \"N/A\":\n",
    "                # Add a new field RQS_human\n",
    "                turn['RQS_human'] = turn['RQS']\n",
    "                turn['RQS'] = turn['RQS']\n",
    "                    \n",
    "# Write the modified data to a new JSON file\n",
    "with open('outputs/human_scored_gemini-1.5-flash.json', 'w', encoding='utf-8') as file:\n",
    "    json.dump(data, file, ensure_ascii=False, indent=4)\n",
    "\n",
    "print(\"Processing complete. Results saved to 'modified_output.json'\")\n"
   ]
  },
  {
   "cell_type": "code",
   "execution_count": 16,
   "id": "64e690ee-13e4-4f94-a338-f76a44216c81",
   "metadata": {
    "tags": []
   },
   "outputs": [
    {
     "name": "stdout",
     "output_type": "stream",
     "text": [
      "Preview of df:\n",
      "         Type  RQS  RQS_human\n",
      "0    improper   10         10\n",
      "1  answerable    0          0\n",
      "2    improper   10         10\n",
      "3  answerable    0          0\n",
      "4    improper   10         10\n",
      "           Type   Pearson  Pearson P-value  Spearman  Spearman P-value  \\\n",
      "0  unanswerable  0.761883     3.893574e-06  0.622490      5.256862e-04   \n",
      "1     ambiguous  1.000000     0.000000e+00  1.000000      0.000000e+00   \n",
      "2      improper  0.979594    3.188615e-109  0.850603      7.659346e-45   \n",
      "\n",
      "    Kendall  Kendall P-value  \n",
      "0  0.588089     4.923213e-04  \n",
      "1  1.000000     1.145737e-04  \n",
      "2  0.845791     1.855500e-26  \n",
      "Correlation analysis complete.\n"
     ]
    }
   ],
   "source": [
    "import json\n",
    "import pandas as pd\n",
    "from scipy.stats import pearsonr, spearmanr, kendalltau\n",
    "\n",
    "# 文件路径\n",
    "human_file_path = 'outputs/human_scored_gemini-1.5-flash.json'\n",
    "\n",
    "# 读取人工打分文件\n",
    "with open(human_file_path, 'r', encoding='utf-8') as human_file:\n",
    "    human_data = json.load(human_file)\n",
    "\n",
    "# 准备结果列表\n",
    "results = []\n",
    "\n",
    "# 处理人工打分数据\n",
    "for item in human_data:\n",
    "    if 'turns' in item:\n",
    "        for turn in item['turns']:\n",
    "            if 'RQS' in turn and turn['RQS'] != \"N/A\" and 'RQS_human' in turn and turn['RQS_human'] != \"N/A\":\n",
    "                predict_type = turn.get('predict_type', None)\n",
    "                if predict_type:\n",
    "                    results.append({\n",
    "                        'Type': predict_type,\n",
    "                        'RQS': int(turn['RQS']),\n",
    "                        'RQS_human': int(turn['RQS_human'])\n",
    "                    })\n",
    "\n",
    "# 将结果转换为DataFrame\n",
    "df = pd.DataFrame(results)\n",
    "\n",
    "print(\"Preview of df:\")\n",
    "print(df.head())  # 仅显示前5行\n",
    "\n",
    "# 计算相关系数\n",
    "correlation_results = []\n",
    "\n",
    "for predict_type in ['unanswerable', 'ambiguous', 'improper']:\n",
    "    subset = df[df['Type'] == predict_type]\n",
    "    \n",
    "    if len(subset) > 1:  # 确保有足够的样本\n",
    "        # 计算Pearson相关系数\n",
    "        pearson_corr, pearson_pval = pearsonr(subset['RQS'], subset['RQS_human'])\n",
    "        \n",
    "        # 计算Spearman相关系数\n",
    "        spearman_corr, spearman_pval = spearmanr(subset['RQS'], subset['RQS_human'])\n",
    "        \n",
    "        # 计算Kendall相关系数\n",
    "        kendall_corr, kendall_pval = kendalltau(subset['RQS'], subset['RQS_human'])\n",
    "\n",
    "        correlation_results.append({\n",
    "            'Type': predict_type,\n",
    "            'Pearson': pearson_corr,\n",
    "            'Pearson P-value': pearson_pval,\n",
    "            'Spearman': spearman_corr,\n",
    "            'Spearman P-value': spearman_pval,\n",
    "            'Kendall': kendall_corr,\n",
    "            'Kendall P-value': kendall_pval\n",
    "        })\n",
    "\n",
    "# 将相关结果转换为DataFrame\n",
    "correlation_df = pd.DataFrame(correlation_results)\n",
    "\n",
    "# 打印相关结果\n",
    "print(correlation_df)\n",
    "\n",
    "# 如果需要，可以选择将结果保存到文件\n",
    "# correlation_df.to_json('correlation_results.json', orient='records', lines=True, force_ascii=False)\n",
    "\n",
    "print(\"Correlation analysis complete.\")\n"
   ]
  }
 ],
 "metadata": {
  "kernelspec": {
   "display_name": "Python 3 (ipykernel)",
   "language": "python",
   "name": "python3"
  },
  "language_info": {
   "codemirror_mode": {
    "name": "ipython",
    "version": 3
   },
   "file_extension": ".py",
   "mimetype": "text/x-python",
   "name": "python",
   "nbconvert_exporter": "python",
   "pygments_lexer": "ipython3",
   "version": "3.12.4"
  }
 },
 "nbformat": 4,
 "nbformat_minor": 5
}
