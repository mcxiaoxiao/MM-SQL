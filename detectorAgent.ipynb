{
 "cells": [
  {
   "cell_type": "code",
   "execution_count": 1,
   "id": "d01d7823-8e5a-4b35-b7a2-e7ff417326f7",
   "metadata": {},
   "outputs": [],
   "source": [
    "# Import the functions from /tools\n",
    "import math\n",
    "import os\n",
    "\n",
    "# You need to choose one of the api's or hf's \"request_llm\" function here. \n",
    "# from tools.hf_open_source_llm_request import request_llm\n",
    "# from tools.api_request import request_gpt as request_llm\n",
    "from tools.api_request import request_gemini as request_llm\n",
    "\n",
    "from tools.db_detail import db_getdesc\n",
    "from tools.sql_execute import sqlite_execute as execute\n",
    "from tqdm import tqdm\n",
    "import json\n",
    "import argparse\n",
    "\n",
    "def sql_evoke(query,db_name):\n",
    "    result, execution_time ,executable = execute(\"datasets/cosql_dataset/database/\"+db_name+\"/\"+db_name+\".sqlite\",query)\n",
    "    return result \n",
    "\n",
    "def get_example(db_name):\n",
    "    sql_query = \"SELECT name FROM sqlite_master WHERE type='table';\"\n",
    "    result = sql_evoke(sql_query,db_name)\n",
    "    column_example=\"\"\n",
    "    for table_name in result:\n",
    "        column_example = column_example + table_name[0] + \":\\n\"\n",
    "        sql_get_eg = \"SELECT * FROM \"+ table_name[0] +\" LIMIT 3;\"\n",
    "        table_eg = sql_evoke(sql_get_eg,db_name)\n",
    "        for table_data in table_eg:\n",
    "            column_example = column_example + '('\n",
    "            for column_data in table_data: \n",
    "                column_example = column_example + str(column_data) +','\n",
    "            column_example = column_example[:-1] + ')\\n'\n",
    "    return column_example\n",
    "\n",
    "# print(db_getdesc(\"car_1\"),get_example(\"car_1\"))"
   ]
  },
  {
   "cell_type": "code",
   "execution_count": 2,
   "id": "76cda29a-636a-40ad-88f0-374274d867b1",
   "metadata": {},
   "outputs": [],
   "source": [
    "from agents.selector import Selector\n",
    "from agents.detector import Detector\n",
    "from agents.decomposer import Decomposer\n",
    "from agents.refiner import Refiner\n",
    "\n",
    "# creat and name the agents\n",
    "selector = Selector(\"Selector\")\n",
    "detector = Detector(\"Detector\")\n",
    "decomposer = Decomposer(\"Decomposer\")\n",
    "refiner = Refiner(\"Refiner\")\n",
    "\n",
    "# input_data = \"hey!\"\n",
    "\n",
    "# output_selector = selector.process_input(input_data)\n",
    "# output_detector = detector.process_input(input_data)\n",
    "# output_decomposer = decomposer.process_input(input_data)\n",
    "# output_refiner = refiner.process_input(input_data)"
   ]
  },
  {
   "cell_type": "code",
   "execution_count": 3,
   "id": "76a42bd9-b156-45ad-b627-68b13f70b962",
   "metadata": {
    "scrolled": true
   },
   "outputs": [
    {
     "name": "stderr",
     "output_type": "stream",
     "text": [
      "  0%|                                                                                                                                                                                                                                                                                                           | 0/149 [00:00<?, ?it/s]"
     ]
    },
    {
     "name": "stdout",
     "output_type": "stream",
     "text": [
      "________Select columns and values________\n",
      "request gemini-1.5-flash\n"
     ]
    },
    {
     "name": "stderr",
     "output_type": "stream",
     "text": [
      "  0%|                                                                                                                                                                                                                                                                                                           | 0/149 [00:02<?, ?it/s]"
     ]
    },
    {
     "name": "stdout",
     "output_type": "stream",
     "text": [
      "\u001b[92mSuccess: Operation completed after 0 retries\u001b[0m\n",
      "{'continents': 'drop_all', 'countries': 'drop_all', 'car_makers': ['FullName', 'Id'], 'model_list': ['Maker', 'ModelId'], 'car_names': 'drop_all', 'cars_data': 'drop_all'}\n",
      "ookkTable:car_makers\n",
      "[\n",
      "(Id:id type:number PRIMARY KEY Value examples:1, 2, 3),\n",
      "(FullName:full name type:text Value examples:American Motor Company, Volkswagen, BMW),\n",
      "]\n",
      "Table:model_list\n",
      "[\n",
      "(ModelId:model id type:number PRIMARY KEY Value examples:1, 2, 3),\n",
      "(Maker:maker type:number Value examples:1, 2, 3),\n",
      "]\n",
      "\n",
      "________Question type detect________\n",
      "________Decompose question and solve________\n",
      "________Refines erroneous SQL queries________\n",
      "\n",
      "LLM Response:\n"
     ]
    },
    {
     "name": "stderr",
     "output_type": "stream",
     "text": [
      "\n"
     ]
    },
    {
     "ename": "NameError",
     "evalue": "name 'llm_response' is not defined",
     "output_type": "error",
     "traceback": [
      "\u001b[1;31m---------------------------------------------------------------------------\u001b[0m",
      "\u001b[1;31mNameError\u001b[0m                                 Traceback (most recent call last)",
      "Cell \u001b[1;32mIn[3], line 65\u001b[0m\n\u001b[0;32m     62\u001b[0m \u001b[38;5;28;01mwith\u001b[39;00m  \u001b[38;5;28mopen\u001b[39m(\u001b[38;5;124m'\u001b[39m\u001b[38;5;124mdatasets/MMSQL_test.json\u001b[39m\u001b[38;5;124m'\u001b[39m, \u001b[38;5;124m'\u001b[39m\u001b[38;5;124mr\u001b[39m\u001b[38;5;124m'\u001b[39m, encoding\u001b[38;5;241m=\u001b[39m\u001b[38;5;124m'\u001b[39m\u001b[38;5;124mutf-8\u001b[39m\u001b[38;5;124m'\u001b[39m) \u001b[38;5;28;01mas\u001b[39;00m f:\n\u001b[0;32m     63\u001b[0m         data \u001b[38;5;241m=\u001b[39m json\u001b[38;5;241m.\u001b[39mload(f)\n\u001b[1;32m---> 65\u001b[0m process_json_part(data,\u001b[38;5;124m'\u001b[39m\u001b[38;5;124magenttest2.json\u001b[39m\u001b[38;5;124m'\u001b[39m)\n",
      "Cell \u001b[1;32mIn[3], line 29\u001b[0m, in \u001b[0;36mprocess_json_part\u001b[1;34m(data, output_file)\u001b[0m\n\u001b[0;32m     27\u001b[0m \u001b[38;5;66;03m# llm record\u001b[39;00m\n\u001b[0;32m     28\u001b[0m \u001b[38;5;28mprint\u001b[39m(\u001b[38;5;124m\"\u001b[39m\u001b[38;5;130;01m\\n\u001b[39;00m\u001b[38;5;124mLLM Response:\u001b[39m\u001b[38;5;124m\"\u001b[39m)\n\u001b[1;32m---> 29\u001b[0m \u001b[38;5;28mprint\u001b[39m(llm_response)\n\u001b[0;32m     30\u001b[0m item[\u001b[38;5;124m'\u001b[39m\u001b[38;5;124mturns\u001b[39m\u001b[38;5;124m'\u001b[39m][index\u001b[38;5;241m+\u001b[39m\u001b[38;5;241m1\u001b[39m][\u001b[38;5;124m'\u001b[39m\u001b[38;5;124mpredict\u001b[39m\u001b[38;5;124m'\u001b[39m] \u001b[38;5;241m=\u001b[39m llm_response\n\u001b[0;32m     31\u001b[0m \u001b[38;5;66;03m# update messages\u001b[39;00m\n",
      "\u001b[1;31mNameError\u001b[0m: name 'llm_response' is not defined"
     ]
    }
   ],
   "source": [
    "def process_json_part(data, output_file):\n",
    "    for index1,item in enumerate(tqdm(data)):\n",
    "        # Initialnize messages\n",
    "        # print(\"__________\"+str(index1)+\"___________\")\n",
    "        db_name = item['db_name']\n",
    "        for index, turn in enumerate(item['turns']):\n",
    "            if turn['isuser']:\n",
    "                user_question = turn['text']\n",
    "                if index+1<len(item['turns']):\n",
    "                    \n",
    "                    print(\"________Select columns and values________\")\n",
    "                    input_data = {\n",
    "                        \"db_name\": db_name,\n",
    "                        \"db_desc\": db_getdesc(db_name),\n",
    "                        \"db_exam\": get_example(db_name),\n",
    "                        \"question\": user_question\n",
    "                    }\n",
    "                    output_selector = selector.process_input(input_data)\n",
    "                    print(output_selector)\n",
    "                    \n",
    "                    print(\"________Question type detect________\")\n",
    "\n",
    "                    print(\"________Decompose question and solve________\")\n",
    "\n",
    "                    print(\"________Refines erroneous SQL queries________\")\n",
    "\n",
    "                    # llm record\n",
    "                    print(\"\\nLLM Response:\")\n",
    "                    print(llm_response)\n",
    "                    item['turns'][index+1]['predict'] = llm_response\n",
    "                    # update messages\n",
    "                    g_ans = \"\"\n",
    "                    if item['turns'][index+1]['text']:\n",
    "                        g_ans = item['turns'][index+1]['text']\n",
    "                    else:\n",
    "                        g_ans = item['turns'][index+1]['query']\n",
    "                    messages.append({\"role\": \"assistant\", \"content\": g_ans})\n",
    "                    \n",
    "        if not os.path.exists(output_file):\n",
    "            with open(output_file, 'w') as f:\n",
    "                items = [item]\n",
    "                json.dump(items, f, indent=4)\n",
    "                f.write('\\n')\n",
    "        else:\n",
    "            with open(output_file, 'r') as f:\n",
    "                try:\n",
    "                    items = json.load(f)\n",
    "                except json.JSONDecodeError:\n",
    "                    print(\"\\033[91mError:The file content is not in valid JSON format\\033[0m\")\n",
    "                    # items = []\n",
    "\n",
    "            if not isinstance(items, list):\n",
    "                print(\"\\033[91mError:The file content is not in valid JSON format\\033[0m\")\n",
    "                # items = []\n",
    "\n",
    "            items.append(item)\n",
    "\n",
    "            with open(output_file, 'w') as f:\n",
    "                json.dump(items, f, indent=4)\n",
    "                f.write('\\n') \n",
    "\n",
    "with  open('datasets/MMSQL_test.json', 'r', encoding='utf-8') as f:\n",
    "        data = json.load(f)\n",
    "    \n",
    "process_json_part(data,'agenttest2.json')"
   ]
  }
 ],
 "metadata": {
  "kernelspec": {
   "display_name": "Python 3 (ipykernel)",
   "language": "python",
   "name": "python3"
  },
  "language_info": {
   "codemirror_mode": {
    "name": "ipython",
    "version": 3
   },
   "file_extension": ".py",
   "mimetype": "text/x-python",
   "name": "python",
   "nbconvert_exporter": "python",
   "pygments_lexer": "ipython3",
   "version": "3.12.4"
  }
 },
 "nbformat": 4,
 "nbformat_minor": 5
}
